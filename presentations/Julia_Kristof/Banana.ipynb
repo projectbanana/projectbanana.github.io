{
 "cells": [
  {
   "cell_type": "markdown",
   "metadata": {},
   "source": [
    "## Examples"
   ]
  },
  {
   "cell_type": "code",
   "execution_count": 2,
   "metadata": {
    "collapsed": true
   },
   "outputs": [
    {
     "data": {
      "text/plain": [
       "3"
      ]
     },
     "execution_count": 2,
     "metadata": {},
     "output_type": "execute_result"
    }
   ],
   "source": [
    "a = 1 + 3\n"
   ]
  },
  {
   "cell_type": "code",
   "execution_count": 3,
   "metadata": {},
   "outputs": [
    {
     "name": "stdout",
     "output_type": "stream",
     "text": [
      "3\n"
     ]
    }
   ],
   "source": [
    "println(a)"
   ]
  },
  {
   "cell_type": "markdown",
   "metadata": {},
   "source": [
    "## Multiple Dispatch\n",
    "\n",
    "- Different implementations or *methods* of a function are called based on the types of the argument\n",
    "- How does this compare to c++?\n",
    "- In c++ static multiple dispatch (i.e. based on the compile time type of objects) has existed for a long time (function overloading)\n",
    "- In c++ dynamic dispatch happens only based on the object type, not on the other arguments (single dispatch, virtual table lookup, runtime polymorphism)"
   ]
  },
  {
   "cell_type": "code",
   "execution_count": 4,
   "metadata": {},
   "outputs": [
    {
     "data": {
      "text/plain": [
       "roundness (generic function with 1 method)"
      ]
     },
     "execution_count": 4,
     "metadata": {},
     "output_type": "execute_result"
    }
   ],
   "source": [
    "roundness(x) = 4π * area(x) / circum(x)^2"
   ]
  },
  {
   "cell_type": "code",
   "execution_count": 7,
   "metadata": {},
   "outputs": [
    {
     "data": {
      "text/plain": [
       "circum (generic function with 2 methods)"
      ]
     },
     "execution_count": 7,
     "metadata": {},
     "output_type": "execute_result"
    }
   ],
   "source": [
    "struct Circle\n",
    "    radius\n",
    "end\n",
    "\n",
    "struct Square\n",
    "    side\n",
    "end\n",
    "\n",
    "area(x::Circle) = (π * x.radius^2)\n",
    "area(x::Square) = x.side^2\n",
    "circum(x::Circle) = 2π * x.radius\n",
    "circum(x::Square) = 4*x.side\n"
   ]
  },
  {
   "cell_type": "code",
   "execution_count": 8,
   "metadata": {},
   "outputs": [
    {
     "name": "stdout",
     "output_type": "stream",
     "text": [
      "1.0\n",
      "0.7853981633974483\n"
     ]
    }
   ],
   "source": [
    "circle = Circle(1.0)\n",
    "square = Square(2.0)\n",
    "\n",
    "println(roundness(circle))\n",
    "println(roundness(square))"
   ]
  },
  {
   "cell_type": "code",
   "execution_count": 9,
   "metadata": {},
   "outputs": [
    {
     "name": "stdout",
     "output_type": "stream",
     "text": [
      "Headache time\n"
     ]
    }
   ],
   "source": [
    "overlap(x::Circle, y::Circle) = println(\"Very easy\")\n",
    "overlap(x::Square, y::Square) = println(\"Bit more complicated\")\n",
    "overlap(x::Circle, y::Square) = println(\"Headache time\")\n",
    "overlap(y::Square, x::Circle) = overlap(x, y)\n",
    "\n",
    "overlap(square, circle)"
   ]
  },
  {
   "cell_type": "markdown",
   "metadata": {},
   "source": [
    "## Other features (or lack thereof)\n",
    "\n",
    "- In principle all variables are references\n",
    "- Dynamic language: type is a property of objects, not of variables\n",
    "- In many cases the compiler can figure out a variable has a fixed type and will optimize accordingly\n",
    "- Inheritance only serves to steer dispatch, not to copy over data layout\n",
    "- Good support for distributed memory parallelism, multithreading from 1.3.0\n",
    "- Linear algebra happens in BLAS, MKL can be used if desired\n",
    "- No strictly enforced access control\n",
    "- No strictly enforced constness\n",
    "- No direct control over memory management (garbage collector)\n",
    "- Meta-programming through runtime code eval, macros, and generated functions"
   ]
  },
  {
   "cell_type": "markdown",
   "metadata": {},
   "source": [
    "## Broadcasting\n",
    "\n",
    "- generalisation of Matlab `.*` and `bsxfun` mechanism\n",
    "- works for all functions, also user defined ones"
   ]
  },
  {
   "cell_type": "code",
   "execution_count": 10,
   "metadata": {},
   "outputs": [
    {
     "name": "stdout",
     "output_type": "stream",
     "text": [
      "1\n",
      "4\n",
      "9\n",
      "16\n",
      "25\n",
      "36\n",
      "49\n",
      "64\n",
      "81\n",
      "100\n"
     ]
    }
   ],
   "source": [
    "q(x) = (v = x*x; println(v); v)\n",
    "A = collect(1:10)\n",
    "q.(A);"
   ]
  },
  {
   "cell_type": "markdown",
   "metadata": {},
   "source": [
    "## Plotting\n",
    "\n",
    "- Various plotting libraries exist\n",
    "- They typically take a long time to load\n",
    "- This can be traced back to the JIT compilation"
   ]
  },
  {
   "cell_type": "code",
   "execution_count": 11,
   "metadata": {},
   "outputs": [],
   "source": [
    "using Plots"
   ]
  },
  {
   "cell_type": "code",
   "execution_count": 12,
   "metadata": {},
   "outputs": [
    {
     "name": "stdout",
     "output_type": "stream",
     "text": [
      " 11.012850 seconds (30.82 M allocations: 1.521 GiB, 7.41% gc time)\n",
      "  0.000703 seconds (2.11 k allocations: 160.531 KiB)\n"
     ]
    },
    {
     "data": {
      "image/svg+xml": [
       "<?xml version=\"1.0\" encoding=\"utf-8\"?>\n",
       "<svg xmlns=\"http://www.w3.org/2000/svg\" xmlns:xlink=\"http://www.w3.org/1999/xlink\" width=\"600\" height=\"400\" viewBox=\"0 0 2400 1600\">\n",
       "<defs>\n",
       "  <clipPath id=\"clip1000\">\n",
       "    <rect x=\"0\" y=\"0\" width=\"2400\" height=\"1600\"/>\n",
       "  </clipPath>\n",
       "</defs>\n",
       "<polygon clip-path=\"url(#clip1000)\" points=\"\n",
       "0,1600 2400,1600 2400,0 0,0 \n",
       "  \" fill=\"#ffffff\" fill-rule=\"evenodd\" fill-opacity=\"1\"/>\n",
       "<defs>\n",
       "  <clipPath id=\"clip1001\">\n",
       "    <rect x=\"480\" y=\"0\" width=\"1681\" height=\"1600\"/>\n",
       "  </clipPath>\n",
       "</defs>\n",
       "<polygon clip-path=\"url(#clip1000)\" points=\"\n",
       "153.898,1487.47 2352.76,1487.47 2352.76,47.2441 153.898,47.2441 \n",
       "  \" fill=\"#ffffff\" fill-rule=\"evenodd\" fill-opacity=\"1\"/>\n",
       "<defs>\n",
       "  <clipPath id=\"clip1002\">\n",
       "    <rect x=\"153\" y=\"47\" width=\"2200\" height=\"1441\"/>\n",
       "  </clipPath>\n",
       "</defs>\n",
       "<polyline clip-path=\"url(#clip1002)\" style=\"stroke:#000000; stroke-width:2; stroke-opacity:0.1; fill:none\" points=\"\n",
       "  446.618,1487.47 446.618,47.2441 \n",
       "  \"/>\n",
       "<polyline clip-path=\"url(#clip1002)\" style=\"stroke:#000000; stroke-width:2; stroke-opacity:0.1; fill:none\" points=\"\n",
       "  907.595,1487.47 907.595,47.2441 \n",
       "  \"/>\n",
       "<polyline clip-path=\"url(#clip1002)\" style=\"stroke:#000000; stroke-width:2; stroke-opacity:0.1; fill:none\" points=\"\n",
       "  1368.57,1487.47 1368.57,47.2441 \n",
       "  \"/>\n",
       "<polyline clip-path=\"url(#clip1002)\" style=\"stroke:#000000; stroke-width:2; stroke-opacity:0.1; fill:none\" points=\"\n",
       "  1829.55,1487.47 1829.55,47.2441 \n",
       "  \"/>\n",
       "<polyline clip-path=\"url(#clip1002)\" style=\"stroke:#000000; stroke-width:2; stroke-opacity:0.1; fill:none\" points=\"\n",
       "  2290.52,1487.47 2290.52,47.2441 \n",
       "  \"/>\n",
       "<polyline clip-path=\"url(#clip1002)\" style=\"stroke:#000000; stroke-width:2; stroke-opacity:0.1; fill:none\" points=\"\n",
       "  153.898,1468.81 2352.76,1468.81 \n",
       "  \"/>\n",
       "<polyline clip-path=\"url(#clip1002)\" style=\"stroke:#000000; stroke-width:2; stroke-opacity:0.1; fill:none\" points=\"\n",
       "  153.898,1180.56 2352.76,1180.56 \n",
       "  \"/>\n",
       "<polyline clip-path=\"url(#clip1002)\" style=\"stroke:#000000; stroke-width:2; stroke-opacity:0.1; fill:none\" points=\"\n",
       "  153.898,892.303 2352.76,892.303 \n",
       "  \"/>\n",
       "<polyline clip-path=\"url(#clip1002)\" style=\"stroke:#000000; stroke-width:2; stroke-opacity:0.1; fill:none\" points=\"\n",
       "  153.898,604.049 2352.76,604.049 \n",
       "  \"/>\n",
       "<polyline clip-path=\"url(#clip1002)\" style=\"stroke:#000000; stroke-width:2; stroke-opacity:0.1; fill:none\" points=\"\n",
       "  153.898,315.794 2352.76,315.794 \n",
       "  \"/>\n",
       "<polyline clip-path=\"url(#clip1000)\" style=\"stroke:#000000; stroke-width:4; stroke-opacity:1; fill:none\" points=\"\n",
       "  153.898,1487.47 2352.76,1487.47 \n",
       "  \"/>\n",
       "<polyline clip-path=\"url(#clip1000)\" style=\"stroke:#000000; stroke-width:4; stroke-opacity:1; fill:none\" points=\"\n",
       "  153.898,1487.47 153.898,47.2441 \n",
       "  \"/>\n",
       "<polyline clip-path=\"url(#clip1000)\" style=\"stroke:#000000; stroke-width:4; stroke-opacity:1; fill:none\" points=\"\n",
       "  446.618,1487.47 446.618,1465.87 \n",
       "  \"/>\n",
       "<polyline clip-path=\"url(#clip1000)\" style=\"stroke:#000000; stroke-width:4; stroke-opacity:1; fill:none\" points=\"\n",
       "  907.595,1487.47 907.595,1465.87 \n",
       "  \"/>\n",
       "<polyline clip-path=\"url(#clip1000)\" style=\"stroke:#000000; stroke-width:4; stroke-opacity:1; fill:none\" points=\"\n",
       "  1368.57,1487.47 1368.57,1465.87 \n",
       "  \"/>\n",
       "<polyline clip-path=\"url(#clip1000)\" style=\"stroke:#000000; stroke-width:4; stroke-opacity:1; fill:none\" points=\"\n",
       "  1829.55,1487.47 1829.55,1465.87 \n",
       "  \"/>\n",
       "<polyline clip-path=\"url(#clip1000)\" style=\"stroke:#000000; stroke-width:4; stroke-opacity:1; fill:none\" points=\"\n",
       "  2290.52,1487.47 2290.52,1465.87 \n",
       "  \"/>\n",
       "<polyline clip-path=\"url(#clip1000)\" style=\"stroke:#000000; stroke-width:4; stroke-opacity:1; fill:none\" points=\"\n",
       "  153.898,1468.81 186.881,1468.81 \n",
       "  \"/>\n",
       "<polyline clip-path=\"url(#clip1000)\" style=\"stroke:#000000; stroke-width:4; stroke-opacity:1; fill:none\" points=\"\n",
       "  153.898,1180.56 186.881,1180.56 \n",
       "  \"/>\n",
       "<polyline clip-path=\"url(#clip1000)\" style=\"stroke:#000000; stroke-width:4; stroke-opacity:1; fill:none\" points=\"\n",
       "  153.898,892.303 186.881,892.303 \n",
       "  \"/>\n",
       "<polyline clip-path=\"url(#clip1000)\" style=\"stroke:#000000; stroke-width:4; stroke-opacity:1; fill:none\" points=\"\n",
       "  153.898,604.049 186.881,604.049 \n",
       "  \"/>\n",
       "<polyline clip-path=\"url(#clip1000)\" style=\"stroke:#000000; stroke-width:4; stroke-opacity:1; fill:none\" points=\"\n",
       "  153.898,315.794 186.881,315.794 \n",
       "  \"/>\n",
       "<g clip-path=\"url(#clip1000)\">\n",
       "<text style=\"fill:#000000; fill-opacity:1; font-family:Arial,Helvetica Neue,Helvetica,sans-serif; font-size:48px; text-anchor:middle;\" transform=\"rotate(0, 446.618, 1541.47)\" x=\"446.618\" y=\"1541.47\">2</text>\n",
       "</g>\n",
       "<g clip-path=\"url(#clip1000)\">\n",
       "<text style=\"fill:#000000; fill-opacity:1; font-family:Arial,Helvetica Neue,Helvetica,sans-serif; font-size:48px; text-anchor:middle;\" transform=\"rotate(0, 907.595, 1541.47)\" x=\"907.595\" y=\"1541.47\">4</text>\n",
       "</g>\n",
       "<g clip-path=\"url(#clip1000)\">\n",
       "<text style=\"fill:#000000; fill-opacity:1; font-family:Arial,Helvetica Neue,Helvetica,sans-serif; font-size:48px; text-anchor:middle;\" transform=\"rotate(0, 1368.57, 1541.47)\" x=\"1368.57\" y=\"1541.47\">6</text>\n",
       "</g>\n",
       "<g clip-path=\"url(#clip1000)\">\n",
       "<text style=\"fill:#000000; fill-opacity:1; font-family:Arial,Helvetica Neue,Helvetica,sans-serif; font-size:48px; text-anchor:middle;\" transform=\"rotate(0, 1829.55, 1541.47)\" x=\"1829.55\" y=\"1541.47\">8</text>\n",
       "</g>\n",
       "<g clip-path=\"url(#clip1000)\">\n",
       "<text style=\"fill:#000000; fill-opacity:1; font-family:Arial,Helvetica Neue,Helvetica,sans-serif; font-size:48px; text-anchor:middle;\" transform=\"rotate(0, 2290.52, 1541.47)\" x=\"2290.52\" y=\"1541.47\">10</text>\n",
       "</g>\n",
       "<g clip-path=\"url(#clip1000)\">\n",
       "<text style=\"fill:#000000; fill-opacity:1; font-family:Arial,Helvetica Neue,Helvetica,sans-serif; font-size:48px; text-anchor:end;\" transform=\"rotate(0, 129.898, 1486.31)\" x=\"129.898\" y=\"1486.31\">0.0</text>\n",
       "</g>\n",
       "<g clip-path=\"url(#clip1000)\">\n",
       "<text style=\"fill:#000000; fill-opacity:1; font-family:Arial,Helvetica Neue,Helvetica,sans-serif; font-size:48px; text-anchor:end;\" transform=\"rotate(0, 129.898, 1198.06)\" x=\"129.898\" y=\"1198.06\">0.2</text>\n",
       "</g>\n",
       "<g clip-path=\"url(#clip1000)\">\n",
       "<text style=\"fill:#000000; fill-opacity:1; font-family:Arial,Helvetica Neue,Helvetica,sans-serif; font-size:48px; text-anchor:end;\" transform=\"rotate(0, 129.898, 909.803)\" x=\"129.898\" y=\"909.803\">0.4</text>\n",
       "</g>\n",
       "<g clip-path=\"url(#clip1000)\">\n",
       "<text style=\"fill:#000000; fill-opacity:1; font-family:Arial,Helvetica Neue,Helvetica,sans-serif; font-size:48px; text-anchor:end;\" transform=\"rotate(0, 129.898, 621.549)\" x=\"129.898\" y=\"621.549\">0.6</text>\n",
       "</g>\n",
       "<g clip-path=\"url(#clip1000)\">\n",
       "<text style=\"fill:#000000; fill-opacity:1; font-family:Arial,Helvetica Neue,Helvetica,sans-serif; font-size:48px; text-anchor:end;\" transform=\"rotate(0, 129.898, 333.294)\" x=\"129.898\" y=\"333.294\">0.8</text>\n",
       "</g>\n",
       "<polyline clip-path=\"url(#clip1002)\" style=\"stroke:#009af9; stroke-width:4; stroke-opacity:1; fill:none\" points=\"\n",
       "  216.13,312.586 446.618,88.0053 677.106,1446.71 907.595,1240.11 1138.08,980.247 1368.57,1311.16 1599.06,933.178 1829.55,1254.45 2060.04,577.995 2290.52,557.766 \n",
       "  \n",
       "  \"/>\n",
       "<polygon clip-path=\"url(#clip1000)\" points=\"\n",
       "1989.93,251.724 2280.76,251.724 2280.76,130.764 1989.93,130.764 \n",
       "  \" fill=\"#ffffff\" fill-rule=\"evenodd\" fill-opacity=\"1\"/>\n",
       "<polyline clip-path=\"url(#clip1000)\" style=\"stroke:#000000; stroke-width:4; stroke-opacity:1; fill:none\" points=\"\n",
       "  1989.93,251.724 2280.76,251.724 2280.76,130.764 1989.93,130.764 1989.93,251.724 \n",
       "  \"/>\n",
       "<polyline clip-path=\"url(#clip1000)\" style=\"stroke:#009af9; stroke-width:4; stroke-opacity:1; fill:none\" points=\"\n",
       "  2013.93,191.244 2157.93,191.244 \n",
       "  \"/>\n",
       "<g clip-path=\"url(#clip1000)\">\n",
       "<text style=\"fill:#000000; fill-opacity:1; font-family:Arial,Helvetica Neue,Helvetica,sans-serif; font-size:48px; text-anchor:start;\" transform=\"rotate(0, 2181.93, 208.744)\" x=\"2181.93\" y=\"208.744\">y1</text>\n",
       "</g>\n",
       "</svg>\n"
      ]
     },
     "execution_count": 12,
     "metadata": {},
     "output_type": "execute_result"
    }
   ],
   "source": [
    "@time plot(rand(10))\n",
    "@time plot(rand(10))"
   ]
  },
  {
   "cell_type": "markdown",
   "metadata": {},
   "source": [
    "## Standard Library\n",
    "\n",
    "Extensive, but no *batteries included* philosophy. Includes:\n",
    "\n",
    "- printing\n",
    "- network and file IO\n",
    "- parallel computing and co-routines\n",
    "- package management\n",
    "- testing\n",
    "- linear algebra"
   ]
  },
  {
   "cell_type": "code",
   "execution_count": 13,
   "metadata": {},
   "outputs": [
    {
     "data": {
      "text/plain": [
       "123-element Array{Symbol,1}:\n",
       " :/               \n",
       " :ARPACKException \n",
       " :Adjoint         \n",
       " :BLAS            \n",
       " :Bidiagonal      \n",
       " :BunchKaufman    \n",
       " :Cholesky        \n",
       " :CholeskyPivoted \n",
       " :Diagonal        \n",
       " :Eigen           \n",
       " :Factorization   \n",
       " :GeneralizedEigen\n",
       " :GeneralizedSVD  \n",
       " ⋮                \n",
       " :svdvals         \n",
       " :svdvals!        \n",
       " :sylvester       \n",
       " :tr              \n",
       " :transpose       \n",
       " :transpose!      \n",
       " :tril            \n",
       " :tril!           \n",
       " :triu            \n",
       " :triu!           \n",
       " :×               \n",
       " :⋅               "
      ]
     },
     "execution_count": 13,
     "metadata": {},
     "output_type": "execute_result"
    }
   ],
   "source": [
    "using LinearAlgebra\n",
    "names(LinearAlgebra)"
   ]
  },
  {
   "cell_type": "code",
   "execution_count": 14,
   "metadata": {},
   "outputs": [],
   "source": [
    "n = 20\n",
    "A = zeros(n,n)\n",
    "for i in 1 : n A[i,i] = -2 end\n",
    "for i in 1 : n-1 A[i,i+1] = A[i+1,i] = 1 end"
   ]
  },
  {
   "cell_type": "code",
   "execution_count": 15,
   "metadata": {},
   "outputs": [
    {
     "name": "stdout",
     "output_type": "stream",
     "text": [
      "-(π ^ 2) / (n + 1) ^ 2 = -0.022380055331268387\n",
      "maximum(λ) = -0.022338347549743037\n"
     ]
    },
    {
     "data": {
      "text/plain": [
       "-0.022338347549743037"
      ]
     },
     "execution_count": 15,
     "metadata": {},
     "output_type": "execute_result"
    }
   ],
   "source": [
    "λ = eigvals(A)\n",
    "@show - π^2 / (n+1)^2\n",
    "@show maximum(λ)"
   ]
  },
  {
   "cell_type": "code",
   "execution_count": 16,
   "metadata": {},
   "outputs": [],
   "source": [
    "b = ones(n) * (1/(n+1))^2;"
   ]
  },
  {
   "cell_type": "code",
   "execution_count": 17,
   "metadata": {},
   "outputs": [],
   "source": [
    "u = A \\ b;"
   ]
  },
  {
   "cell_type": "code",
   "execution_count": 18,
   "metadata": {},
   "outputs": [
    {
     "data": {
      "image/svg+xml": [
       "<?xml version=\"1.0\" encoding=\"utf-8\"?>\n",
       "<svg xmlns=\"http://www.w3.org/2000/svg\" xmlns:xlink=\"http://www.w3.org/1999/xlink\" width=\"600\" height=\"400\" viewBox=\"0 0 2400 1600\">\n",
       "<defs>\n",
       "  <clipPath id=\"clip1400\">\n",
       "    <rect x=\"0\" y=\"0\" width=\"2400\" height=\"1600\"/>\n",
       "  </clipPath>\n",
       "</defs>\n",
       "<polygon clip-path=\"url(#clip1400)\" points=\"\n",
       "0,1600 2400,1600 2400,0 0,0 \n",
       "  \" fill=\"#ffffff\" fill-rule=\"evenodd\" fill-opacity=\"1\"/>\n",
       "<defs>\n",
       "  <clipPath id=\"clip1401\">\n",
       "    <rect x=\"480\" y=\"0\" width=\"1681\" height=\"1600\"/>\n",
       "  </clipPath>\n",
       "</defs>\n",
       "<polygon clip-path=\"url(#clip1400)\" points=\"\n",
       "208.77,1487.47 2352.76,1487.47 2352.76,47.2441 208.77,47.2441 \n",
       "  \" fill=\"#ffffff\" fill-rule=\"evenodd\" fill-opacity=\"1\"/>\n",
       "<defs>\n",
       "  <clipPath id=\"clip1402\">\n",
       "    <rect x=\"208\" y=\"47\" width=\"2145\" height=\"1441\"/>\n",
       "  </clipPath>\n",
       "</defs>\n",
       "<polyline clip-path=\"url(#clip1402)\" style=\"stroke:#000000; stroke-width:2; stroke-opacity:0.1; fill:none\" points=\"\n",
       "  695.266,1487.47 695.266,47.2441 \n",
       "  \"/>\n",
       "<polyline clip-path=\"url(#clip1402)\" style=\"stroke:#000000; stroke-width:2; stroke-opacity:0.1; fill:none\" points=\"\n",
       "  1227.54,1487.47 1227.54,47.2441 \n",
       "  \"/>\n",
       "<polyline clip-path=\"url(#clip1402)\" style=\"stroke:#000000; stroke-width:2; stroke-opacity:0.1; fill:none\" points=\"\n",
       "  1759.81,1487.47 1759.81,47.2441 \n",
       "  \"/>\n",
       "<polyline clip-path=\"url(#clip1402)\" style=\"stroke:#000000; stroke-width:2; stroke-opacity:0.1; fill:none\" points=\"\n",
       "  2292.08,1487.47 2292.08,47.2441 \n",
       "  \"/>\n",
       "<polyline clip-path=\"url(#clip1402)\" style=\"stroke:#000000; stroke-width:2; stroke-opacity:0.1; fill:none\" points=\"\n",
       "  208.77,1487.47 2352.76,1487.47 \n",
       "  \"/>\n",
       "<polyline clip-path=\"url(#clip1402)\" style=\"stroke:#000000; stroke-width:2; stroke-opacity:0.1; fill:none\" points=\"\n",
       "  208.77,1127.42 2352.76,1127.42 \n",
       "  \"/>\n",
       "<polyline clip-path=\"url(#clip1402)\" style=\"stroke:#000000; stroke-width:2; stroke-opacity:0.1; fill:none\" points=\"\n",
       "  208.77,767.359 2352.76,767.359 \n",
       "  \"/>\n",
       "<polyline clip-path=\"url(#clip1402)\" style=\"stroke:#000000; stroke-width:2; stroke-opacity:0.1; fill:none\" points=\"\n",
       "  208.77,407.302 2352.76,407.302 \n",
       "  \"/>\n",
       "<polyline clip-path=\"url(#clip1402)\" style=\"stroke:#000000; stroke-width:2; stroke-opacity:0.1; fill:none\" points=\"\n",
       "  208.77,47.2441 2352.76,47.2441 \n",
       "  \"/>\n",
       "<polyline clip-path=\"url(#clip1400)\" style=\"stroke:#000000; stroke-width:4; stroke-opacity:1; fill:none\" points=\"\n",
       "  208.77,1487.47 2352.76,1487.47 \n",
       "  \"/>\n",
       "<polyline clip-path=\"url(#clip1400)\" style=\"stroke:#000000; stroke-width:4; stroke-opacity:1; fill:none\" points=\"\n",
       "  208.77,1487.47 208.77,47.2441 \n",
       "  \"/>\n",
       "<polyline clip-path=\"url(#clip1400)\" style=\"stroke:#000000; stroke-width:4; stroke-opacity:1; fill:none\" points=\"\n",
       "  695.266,1487.47 695.266,1465.87 \n",
       "  \"/>\n",
       "<polyline clip-path=\"url(#clip1400)\" style=\"stroke:#000000; stroke-width:4; stroke-opacity:1; fill:none\" points=\"\n",
       "  1227.54,1487.47 1227.54,1465.87 \n",
       "  \"/>\n",
       "<polyline clip-path=\"url(#clip1400)\" style=\"stroke:#000000; stroke-width:4; stroke-opacity:1; fill:none\" points=\"\n",
       "  1759.81,1487.47 1759.81,1465.87 \n",
       "  \"/>\n",
       "<polyline clip-path=\"url(#clip1400)\" style=\"stroke:#000000; stroke-width:4; stroke-opacity:1; fill:none\" points=\"\n",
       "  2292.08,1487.47 2292.08,1465.87 \n",
       "  \"/>\n",
       "<polyline clip-path=\"url(#clip1400)\" style=\"stroke:#000000; stroke-width:4; stroke-opacity:1; fill:none\" points=\"\n",
       "  208.77,1487.47 240.93,1487.47 \n",
       "  \"/>\n",
       "<polyline clip-path=\"url(#clip1400)\" style=\"stroke:#000000; stroke-width:4; stroke-opacity:1; fill:none\" points=\"\n",
       "  208.77,1127.42 240.93,1127.42 \n",
       "  \"/>\n",
       "<polyline clip-path=\"url(#clip1400)\" style=\"stroke:#000000; stroke-width:4; stroke-opacity:1; fill:none\" points=\"\n",
       "  208.77,767.359 240.93,767.359 \n",
       "  \"/>\n",
       "<polyline clip-path=\"url(#clip1400)\" style=\"stroke:#000000; stroke-width:4; stroke-opacity:1; fill:none\" points=\"\n",
       "  208.77,407.302 240.93,407.302 \n",
       "  \"/>\n",
       "<polyline clip-path=\"url(#clip1400)\" style=\"stroke:#000000; stroke-width:4; stroke-opacity:1; fill:none\" points=\"\n",
       "  208.77,47.2441 240.93,47.2441 \n",
       "  \"/>\n",
       "<g clip-path=\"url(#clip1400)\">\n",
       "<text style=\"fill:#000000; fill-opacity:1; font-family:Arial,Helvetica Neue,Helvetica,sans-serif; font-size:48px; text-anchor:middle;\" transform=\"rotate(0, 695.266, 1541.47)\" x=\"695.266\" y=\"1541.47\">5</text>\n",
       "</g>\n",
       "<g clip-path=\"url(#clip1400)\">\n",
       "<text style=\"fill:#000000; fill-opacity:1; font-family:Arial,Helvetica Neue,Helvetica,sans-serif; font-size:48px; text-anchor:middle;\" transform=\"rotate(0, 1227.54, 1541.47)\" x=\"1227.54\" y=\"1541.47\">10</text>\n",
       "</g>\n",
       "<g clip-path=\"url(#clip1400)\">\n",
       "<text style=\"fill:#000000; fill-opacity:1; font-family:Arial,Helvetica Neue,Helvetica,sans-serif; font-size:48px; text-anchor:middle;\" transform=\"rotate(0, 1759.81, 1541.47)\" x=\"1759.81\" y=\"1541.47\">15</text>\n",
       "</g>\n",
       "<g clip-path=\"url(#clip1400)\">\n",
       "<text style=\"fill:#000000; fill-opacity:1; font-family:Arial,Helvetica Neue,Helvetica,sans-serif; font-size:48px; text-anchor:middle;\" transform=\"rotate(0, 2292.08, 1541.47)\" x=\"2292.08\" y=\"1541.47\">20</text>\n",
       "</g>\n",
       "<g clip-path=\"url(#clip1400)\">\n",
       "<text style=\"fill:#000000; fill-opacity:1; font-family:Arial,Helvetica Neue,Helvetica,sans-serif; font-size:48px; text-anchor:end;\" transform=\"rotate(0, 184.77, 1504.97)\" x=\"184.77\" y=\"1504.97\">-0.20</text>\n",
       "</g>\n",
       "<g clip-path=\"url(#clip1400)\">\n",
       "<text style=\"fill:#000000; fill-opacity:1; font-family:Arial,Helvetica Neue,Helvetica,sans-serif; font-size:48px; text-anchor:end;\" transform=\"rotate(0, 184.77, 1144.92)\" x=\"184.77\" y=\"1144.92\">-0.15</text>\n",
       "</g>\n",
       "<g clip-path=\"url(#clip1400)\">\n",
       "<text style=\"fill:#000000; fill-opacity:1; font-family:Arial,Helvetica Neue,Helvetica,sans-serif; font-size:48px; text-anchor:end;\" transform=\"rotate(0, 184.77, 784.859)\" x=\"184.77\" y=\"784.859\">-0.10</text>\n",
       "</g>\n",
       "<g clip-path=\"url(#clip1400)\">\n",
       "<text style=\"fill:#000000; fill-opacity:1; font-family:Arial,Helvetica Neue,Helvetica,sans-serif; font-size:48px; text-anchor:end;\" transform=\"rotate(0, 184.77, 424.802)\" x=\"184.77\" y=\"424.802\">-0.05</text>\n",
       "</g>\n",
       "<g clip-path=\"url(#clip1400)\">\n",
       "<text style=\"fill:#000000; fill-opacity:1; font-family:Arial,Helvetica Neue,Helvetica,sans-serif; font-size:48px; text-anchor:end;\" transform=\"rotate(0, 184.77, 64.7441)\" x=\"184.77\" y=\"64.7441\">0.00</text>\n",
       "</g>\n",
       "<polyline clip-path=\"url(#clip1402)\" style=\"stroke:#009af9; stroke-width:4; stroke-opacity:1; fill:none\" points=\"\n",
       "  269.449,210.536 375.903,357.498 482.357,488.131 588.812,602.435 695.266,700.41 801.72,782.056 908.174,847.372 1014.63,896.36 1121.08,929.018 1227.54,945.347 \n",
       "  1333.99,945.347 1440.44,929.018 1546.9,896.36 1653.35,847.372 1759.81,782.056 1866.26,700.41 1972.71,602.435 2079.17,488.131 2185.62,357.498 2292.08,210.536 \n",
       "  \n",
       "  \"/>\n",
       "<polygon clip-path=\"url(#clip1402)\" style=\"fill:#000000; fill-opacity:1\" points=\"\n",
       "  269.449,230.536 255.309,224.676 249.449,210.536 255.309,196.396 269.449,190.536 283.589,196.396 289.449,210.536 283.589,224.676 \n",
       "  \"/>\n",
       "<polygon clip-path=\"url(#clip1402)\" style=\"fill:#009af9; fill-opacity:1\" points=\"\n",
       "  269.449,226.536 258.137,221.848 253.449,210.536 258.137,199.224 269.449,194.536 280.761,199.224 285.449,210.536 280.761,221.848 \n",
       "  \"/>\n",
       "<polygon clip-path=\"url(#clip1402)\" style=\"fill:#000000; fill-opacity:1\" points=\"\n",
       "  375.903,377.498 361.763,371.638 355.903,357.498 361.763,343.358 375.903,337.498 390.043,343.358 395.903,357.498 390.043,371.638 \n",
       "  \"/>\n",
       "<polygon clip-path=\"url(#clip1402)\" style=\"fill:#009af9; fill-opacity:1\" points=\"\n",
       "  375.903,373.498 364.591,368.81 359.903,357.498 364.591,346.186 375.903,341.498 387.215,346.186 391.903,357.498 387.215,368.81 \n",
       "  \"/>\n",
       "<polygon clip-path=\"url(#clip1402)\" style=\"fill:#000000; fill-opacity:1\" points=\"\n",
       "  482.357,508.131 468.217,502.271 462.357,488.131 468.217,473.991 482.357,468.131 496.497,473.991 502.357,488.131 496.497,502.271 \n",
       "  \"/>\n",
       "<polygon clip-path=\"url(#clip1402)\" style=\"fill:#009af9; fill-opacity:1\" points=\"\n",
       "  482.357,504.131 471.045,499.443 466.357,488.131 471.045,476.819 482.357,472.131 493.669,476.819 498.357,488.131 493.669,499.443 \n",
       "  \"/>\n",
       "<polygon clip-path=\"url(#clip1402)\" style=\"fill:#000000; fill-opacity:1\" points=\"\n",
       "  588.812,622.435 574.672,616.575 568.812,602.435 574.672,588.295 588.812,582.435 602.952,588.295 608.812,602.435 602.952,616.575 \n",
       "  \"/>\n",
       "<polygon clip-path=\"url(#clip1402)\" style=\"fill:#009af9; fill-opacity:1\" points=\"\n",
       "  588.812,618.435 577.5,613.747 572.812,602.435 577.5,591.123 588.812,586.435 600.124,591.123 604.812,602.435 600.124,613.747 \n",
       "  \"/>\n",
       "<polygon clip-path=\"url(#clip1402)\" style=\"fill:#000000; fill-opacity:1\" points=\"\n",
       "  695.266,720.41 681.126,714.55 675.266,700.41 681.126,686.27 695.266,680.41 709.406,686.27 715.266,700.41 709.406,714.55 \n",
       "  \"/>\n",
       "<polygon clip-path=\"url(#clip1402)\" style=\"fill:#009af9; fill-opacity:1\" points=\"\n",
       "  695.266,716.41 683.954,711.722 679.266,700.41 683.954,689.098 695.266,684.41 706.578,689.098 711.266,700.41 706.578,711.722 \n",
       "  \"/>\n",
       "<polygon clip-path=\"url(#clip1402)\" style=\"fill:#000000; fill-opacity:1\" points=\"\n",
       "  801.72,802.056 787.58,796.196 781.72,782.056 787.58,767.916 801.72,762.056 815.86,767.916 821.72,782.056 815.86,796.196 \n",
       "  \"/>\n",
       "<polygon clip-path=\"url(#clip1402)\" style=\"fill:#009af9; fill-opacity:1\" points=\"\n",
       "  801.72,798.056 790.408,793.368 785.72,782.056 790.408,770.744 801.72,766.056 813.032,770.744 817.72,782.056 813.032,793.368 \n",
       "  \"/>\n",
       "<polygon clip-path=\"url(#clip1402)\" style=\"fill:#000000; fill-opacity:1\" points=\"\n",
       "  908.174,867.372 894.034,861.512 888.174,847.372 894.034,833.232 908.174,827.372 922.314,833.232 928.174,847.372 922.314,861.512 \n",
       "  \"/>\n",
       "<polygon clip-path=\"url(#clip1402)\" style=\"fill:#009af9; fill-opacity:1\" points=\"\n",
       "  908.174,863.372 896.862,858.684 892.174,847.372 896.862,836.06 908.174,831.372 919.486,836.06 924.174,847.372 919.486,858.684 \n",
       "  \"/>\n",
       "<polygon clip-path=\"url(#clip1402)\" style=\"fill:#000000; fill-opacity:1\" points=\"\n",
       "  1014.63,916.36 1000.49,910.5 994.628,896.36 1000.49,882.22 1014.63,876.36 1028.77,882.22 1034.63,896.36 1028.77,910.5 \n",
       "  \"/>\n",
       "<polygon clip-path=\"url(#clip1402)\" style=\"fill:#009af9; fill-opacity:1\" points=\"\n",
       "  1014.63,912.36 1003.32,907.672 998.628,896.36 1003.32,885.048 1014.63,880.36 1025.94,885.048 1030.63,896.36 1025.94,907.672 \n",
       "  \"/>\n",
       "<polygon clip-path=\"url(#clip1402)\" style=\"fill:#000000; fill-opacity:1\" points=\"\n",
       "  1121.08,949.018 1106.94,943.158 1101.08,929.018 1106.94,914.878 1121.08,909.018 1135.22,914.878 1141.08,929.018 1135.22,943.158 \n",
       "  \"/>\n",
       "<polygon clip-path=\"url(#clip1402)\" style=\"fill:#009af9; fill-opacity:1\" points=\"\n",
       "  1121.08,945.018 1109.77,940.33 1105.08,929.018 1109.77,917.706 1121.08,913.018 1132.39,917.706 1137.08,929.018 1132.39,940.33 \n",
       "  \"/>\n",
       "<polygon clip-path=\"url(#clip1402)\" style=\"fill:#000000; fill-opacity:1\" points=\"\n",
       "  1227.54,965.347 1213.4,959.487 1207.54,945.347 1213.4,931.207 1227.54,925.347 1241.68,931.207 1247.54,945.347 1241.68,959.487 \n",
       "  \"/>\n",
       "<polygon clip-path=\"url(#clip1402)\" style=\"fill:#009af9; fill-opacity:1\" points=\"\n",
       "  1227.54,961.347 1216.22,956.659 1211.54,945.347 1216.22,934.035 1227.54,929.347 1238.85,934.035 1243.54,945.347 1238.85,956.659 \n",
       "  \"/>\n",
       "<polygon clip-path=\"url(#clip1402)\" style=\"fill:#000000; fill-opacity:1\" points=\"\n",
       "  1333.99,965.347 1319.85,959.487 1313.99,945.347 1319.85,931.207 1333.99,925.347 1348.13,931.207 1353.99,945.347 1348.13,959.487 \n",
       "  \"/>\n",
       "<polygon clip-path=\"url(#clip1402)\" style=\"fill:#009af9; fill-opacity:1\" points=\"\n",
       "  1333.99,961.347 1322.68,956.659 1317.99,945.347 1322.68,934.035 1333.99,929.347 1345.3,934.035 1349.99,945.347 1345.3,956.659 \n",
       "  \"/>\n",
       "<polygon clip-path=\"url(#clip1402)\" style=\"fill:#000000; fill-opacity:1\" points=\"\n",
       "  1440.44,949.018 1426.3,943.158 1420.44,929.018 1426.3,914.878 1440.44,909.018 1454.58,914.878 1460.44,929.018 1454.58,943.158 \n",
       "  \"/>\n",
       "<polygon clip-path=\"url(#clip1402)\" style=\"fill:#009af9; fill-opacity:1\" points=\"\n",
       "  1440.44,945.018 1429.13,940.33 1424.44,929.018 1429.13,917.706 1440.44,913.018 1451.76,917.706 1456.44,929.018 1451.76,940.33 \n",
       "  \"/>\n",
       "<polygon clip-path=\"url(#clip1402)\" style=\"fill:#000000; fill-opacity:1\" points=\"\n",
       "  1546.9,916.36 1532.76,910.5 1526.9,896.36 1532.76,882.22 1546.9,876.36 1561.04,882.22 1566.9,896.36 1561.04,910.5 \n",
       "  \"/>\n",
       "<polygon clip-path=\"url(#clip1402)\" style=\"fill:#009af9; fill-opacity:1\" points=\"\n",
       "  1546.9,912.36 1535.59,907.672 1530.9,896.36 1535.59,885.048 1546.9,880.36 1558.21,885.048 1562.9,896.36 1558.21,907.672 \n",
       "  \"/>\n",
       "<polygon clip-path=\"url(#clip1402)\" style=\"fill:#000000; fill-opacity:1\" points=\"\n",
       "  1653.35,867.372 1639.21,861.512 1633.35,847.372 1639.21,833.232 1653.35,827.372 1667.49,833.232 1673.35,847.372 1667.49,861.512 \n",
       "  \"/>\n",
       "<polygon clip-path=\"url(#clip1402)\" style=\"fill:#009af9; fill-opacity:1\" points=\"\n",
       "  1653.35,863.372 1642.04,858.684 1637.35,847.372 1642.04,836.06 1653.35,831.372 1664.66,836.06 1669.35,847.372 1664.66,858.684 \n",
       "  \"/>\n",
       "<polygon clip-path=\"url(#clip1402)\" style=\"fill:#000000; fill-opacity:1\" points=\"\n",
       "  1759.81,802.056 1745.67,796.196 1739.81,782.056 1745.67,767.916 1759.81,762.056 1773.95,767.916 1779.81,782.056 1773.95,796.196 \n",
       "  \"/>\n",
       "<polygon clip-path=\"url(#clip1402)\" style=\"fill:#009af9; fill-opacity:1\" points=\"\n",
       "  1759.81,798.056 1748.49,793.368 1743.81,782.056 1748.49,770.744 1759.81,766.056 1771.12,770.744 1775.81,782.056 1771.12,793.368 \n",
       "  \"/>\n",
       "<polygon clip-path=\"url(#clip1402)\" style=\"fill:#000000; fill-opacity:1\" points=\"\n",
       "  1866.26,720.41 1852.12,714.55 1846.26,700.41 1852.12,686.27 1866.26,680.41 1880.4,686.27 1886.26,700.41 1880.4,714.55 \n",
       "  \"/>\n",
       "<polygon clip-path=\"url(#clip1402)\" style=\"fill:#009af9; fill-opacity:1\" points=\"\n",
       "  1866.26,716.41 1854.95,711.722 1850.26,700.41 1854.95,689.098 1866.26,684.41 1877.57,689.098 1882.26,700.41 1877.57,711.722 \n",
       "  \"/>\n",
       "<polygon clip-path=\"url(#clip1402)\" style=\"fill:#000000; fill-opacity:1\" points=\"\n",
       "  1972.71,622.435 1958.57,616.575 1952.71,602.435 1958.57,588.295 1972.71,582.435 1986.85,588.295 1992.71,602.435 1986.85,616.575 \n",
       "  \"/>\n",
       "<polygon clip-path=\"url(#clip1402)\" style=\"fill:#009af9; fill-opacity:1\" points=\"\n",
       "  1972.71,618.435 1961.4,613.747 1956.71,602.435 1961.4,591.123 1972.71,586.435 1984.03,591.123 1988.71,602.435 1984.03,613.747 \n",
       "  \"/>\n",
       "<polygon clip-path=\"url(#clip1402)\" style=\"fill:#000000; fill-opacity:1\" points=\"\n",
       "  2079.17,508.131 2065.03,502.271 2059.17,488.131 2065.03,473.991 2079.17,468.131 2093.31,473.991 2099.17,488.131 2093.31,502.271 \n",
       "  \"/>\n",
       "<polygon clip-path=\"url(#clip1402)\" style=\"fill:#009af9; fill-opacity:1\" points=\"\n",
       "  2079.17,504.131 2067.86,499.443 2063.17,488.131 2067.86,476.819 2079.17,472.131 2090.48,476.819 2095.17,488.131 2090.48,499.443 \n",
       "  \"/>\n",
       "<polygon clip-path=\"url(#clip1402)\" style=\"fill:#000000; fill-opacity:1\" points=\"\n",
       "  2185.62,377.498 2171.48,371.638 2165.62,357.498 2171.48,343.358 2185.62,337.498 2199.76,343.358 2205.62,357.498 2199.76,371.638 \n",
       "  \"/>\n",
       "<polygon clip-path=\"url(#clip1402)\" style=\"fill:#009af9; fill-opacity:1\" points=\"\n",
       "  2185.62,373.498 2174.31,368.81 2169.62,357.498 2174.31,346.186 2185.62,341.498 2196.93,346.186 2201.62,357.498 2196.93,368.81 \n",
       "  \"/>\n",
       "<polygon clip-path=\"url(#clip1402)\" style=\"fill:#000000; fill-opacity:1\" points=\"\n",
       "  2292.08,230.536 2277.94,224.676 2272.08,210.536 2277.94,196.396 2292.08,190.536 2306.22,196.396 2312.08,210.536 2306.22,224.676 \n",
       "  \"/>\n",
       "<polygon clip-path=\"url(#clip1402)\" style=\"fill:#009af9; fill-opacity:1\" points=\"\n",
       "  2292.08,226.536 2280.77,221.848 2276.08,210.536 2280.77,199.224 2292.08,194.536 2303.39,199.224 2308.08,210.536 2303.39,221.848 \n",
       "  \"/>\n",
       "<polygon clip-path=\"url(#clip1400)\" points=\"\n",
       "1989.93,251.724 2280.76,251.724 2280.76,130.764 1989.93,130.764 \n",
       "  \" fill=\"#ffffff\" fill-rule=\"evenodd\" fill-opacity=\"1\"/>\n",
       "<polyline clip-path=\"url(#clip1400)\" style=\"stroke:#000000; stroke-width:4; stroke-opacity:1; fill:none\" points=\"\n",
       "  1989.93,251.724 2280.76,251.724 2280.76,130.764 1989.93,130.764 1989.93,251.724 \n",
       "  \"/>\n",
       "<polyline clip-path=\"url(#clip1400)\" style=\"stroke:#009af9; stroke-width:4; stroke-opacity:1; fill:none\" points=\"\n",
       "  2013.93,191.244 2157.93,191.244 \n",
       "  \"/>\n",
       "<polygon clip-path=\"url(#clip1400)\" style=\"fill:#000000; fill-opacity:1\" points=\"\n",
       "  2097.93,219.244 2078.13,211.04 2069.93,191.244 2078.13,171.448 2097.93,163.244 2117.72,171.448 2125.93,191.244 2117.72,211.04 \n",
       "  \"/>\n",
       "<polygon clip-path=\"url(#clip1400)\" style=\"fill:#009af9; fill-opacity:1\" points=\"\n",
       "  2097.93,215.244 2080.96,208.212 2073.93,191.244 2080.96,174.276 2097.93,167.244 2114.89,174.276 2121.93,191.244 2114.89,208.212 \n",
       "  \"/>\n",
       "<g clip-path=\"url(#clip1400)\">\n",
       "<text style=\"fill:#000000; fill-opacity:1; font-family:Arial,Helvetica Neue,Helvetica,sans-serif; font-size:48px; text-anchor:start;\" transform=\"rotate(0, 2181.93, 208.744)\" x=\"2181.93\" y=\"208.744\">y1</text>\n",
       "</g>\n",
       "</svg>\n"
      ]
     },
     "execution_count": 18,
     "metadata": {},
     "output_type": "execute_result"
    }
   ],
   "source": [
    "plot(u, marker=:o, ylims=(-0.2,0))"
   ]
  },
  {
   "cell_type": "markdown",
   "metadata": {},
   "source": [
    "In addition to being a dynamically typed, fast programming language, Julia comes with:\n",
    "\n",
    "- package management\n",
    "- Github integration\n",
    "- testing infrastructure\n",
    "\n",
    "With minor effort, relying on semi-standard packages, you get:\n",
    "\n",
    "- continuous integration\n",
    "- documentation generation and deployment"
   ]
  },
  {
   "cell_type": "markdown",
   "metadata": {},
   "source": [
    "## Third party packages"
   ]
  },
  {
   "cell_type": "code",
   "execution_count": 19,
   "metadata": {},
   "outputs": [
    {
     "name": "stdout",
     "output_type": "stream",
     "text": [
      "\u001b[32m\u001b[1m  Updating\u001b[22m\u001b[39m registry at `C:\\Users\\Kristof\\.julia\\registries\\General`\n",
      "\u001b[32m\u001b[1m  Updating\u001b[22m\u001b[39m git-repo `https://github.com/JuliaRegistries/General.git`\n",
      "\u001b[2K\u001b[36m\u001b[1mFetching:\u001b[22m\u001b[39m [========================================>]  100.0 %.0 %\u001b[36m\u001b[1mFetching:\u001b[22m\u001b[39m [===>                                     ]  7.4 %\u001b[36m\u001b[1mFetching:\u001b[22m\u001b[39m [======>                                  ]  14.4 % [============>                            ]  27.6 %===============>                         ]  36.2 %\u001b[36m\u001b[1mFetching:\u001b[22m\u001b[39m [===================>                     ]  45.1 % [======================>                  ]  54.9 %>              ]  64.2 %\u001b[36m\u001b[1mFetching:\u001b[22m\u001b[39m [============================>            ]  69.6 %\u001b[36m\u001b[1mFetching:\u001b[22m\u001b[39m [===============================>         ]  75.9 %       ]  82.1 %=======================================> ]  97.3 %\u001b[?25h\u001b[32m\u001b[1m Resolving\u001b[22m\u001b[39m package versions...\n",
      "\u001b[32m\u001b[1m  Updating\u001b[22m\u001b[39m `C:\\Users\\Kristof\\.julia\\environments\\v1.2\\Project.toml`\n",
      "\u001b[90m [no changes]\u001b[39m\n",
      "\u001b[32m\u001b[1m  Updating\u001b[22m\u001b[39m `C:\\Users\\Kristof\\.julia\\environments\\v1.2\\Manifest.toml`\n",
      "\u001b[90m [no changes]\u001b[39m\n"
     ]
    }
   ],
   "source": [
    "using Pkg\n",
    "pkg\"add IterativeSolvers\""
   ]
  },
  {
   "cell_type": "code",
   "execution_count": 20,
   "metadata": {},
   "outputs": [
    {
     "name": "stdout",
     "output_type": "stream",
     "text": [
      "norm(u - u1) = 1.8891767858494865e-16\n"
     ]
    },
    {
     "data": {
      "image/svg+xml": [
       "<?xml version=\"1.0\" encoding=\"utf-8\"?>\n",
       "<svg xmlns=\"http://www.w3.org/2000/svg\" xmlns:xlink=\"http://www.w3.org/1999/xlink\" width=\"600\" height=\"400\" viewBox=\"0 0 2400 1600\">\n",
       "<defs>\n",
       "  <clipPath id=\"clip1800\">\n",
       "    <rect x=\"0\" y=\"0\" width=\"2400\" height=\"1600\"/>\n",
       "  </clipPath>\n",
       "</defs>\n",
       "<polygon clip-path=\"url(#clip1800)\" points=\"\n",
       "0,1600 2400,1600 2400,0 0,0 \n",
       "  \" fill=\"#ffffff\" fill-rule=\"evenodd\" fill-opacity=\"1\"/>\n",
       "<defs>\n",
       "  <clipPath id=\"clip1801\">\n",
       "    <rect x=\"480\" y=\"0\" width=\"1681\" height=\"1600\"/>\n",
       "  </clipPath>\n",
       "</defs>\n",
       "<polygon clip-path=\"url(#clip1800)\" points=\"\n",
       "208.77,1487.47 2352.76,1487.47 2352.76,47.2441 208.77,47.2441 \n",
       "  \" fill=\"#ffffff\" fill-rule=\"evenodd\" fill-opacity=\"1\"/>\n",
       "<defs>\n",
       "  <clipPath id=\"clip1802\">\n",
       "    <rect x=\"208\" y=\"47\" width=\"2145\" height=\"1441\"/>\n",
       "  </clipPath>\n",
       "</defs>\n",
       "<polyline clip-path=\"url(#clip1802)\" style=\"stroke:#000000; stroke-width:2; stroke-opacity:0.1; fill:none\" points=\"\n",
       "  494.186,1487.47 494.186,47.2441 \n",
       "  \"/>\n",
       "<polyline clip-path=\"url(#clip1802)\" style=\"stroke:#000000; stroke-width:2; stroke-opacity:0.1; fill:none\" points=\"\n",
       "  943.659,1487.47 943.659,47.2441 \n",
       "  \"/>\n",
       "<polyline clip-path=\"url(#clip1802)\" style=\"stroke:#000000; stroke-width:2; stroke-opacity:0.1; fill:none\" points=\"\n",
       "  1393.13,1487.47 1393.13,47.2441 \n",
       "  \"/>\n",
       "<polyline clip-path=\"url(#clip1802)\" style=\"stroke:#000000; stroke-width:2; stroke-opacity:0.1; fill:none\" points=\"\n",
       "  1842.6,1487.47 1842.6,47.2441 \n",
       "  \"/>\n",
       "<polyline clip-path=\"url(#clip1802)\" style=\"stroke:#000000; stroke-width:2; stroke-opacity:0.1; fill:none\" points=\"\n",
       "  2292.08,1487.47 2292.08,47.2441 \n",
       "  \"/>\n",
       "<polyline clip-path=\"url(#clip1802)\" style=\"stroke:#000000; stroke-width:2; stroke-opacity:0.1; fill:none\" points=\"\n",
       "  208.77,1336.76 2352.76,1336.76 \n",
       "  \"/>\n",
       "<polyline clip-path=\"url(#clip1802)\" style=\"stroke:#000000; stroke-width:2; stroke-opacity:0.1; fill:none\" points=\"\n",
       "  208.77,1096.31 2352.76,1096.31 \n",
       "  \"/>\n",
       "<polyline clip-path=\"url(#clip1802)\" style=\"stroke:#000000; stroke-width:2; stroke-opacity:0.1; fill:none\" points=\"\n",
       "  208.77,855.849 2352.76,855.849 \n",
       "  \"/>\n",
       "<polyline clip-path=\"url(#clip1802)\" style=\"stroke:#000000; stroke-width:2; stroke-opacity:0.1; fill:none\" points=\"\n",
       "  208.77,615.393 2352.76,615.393 \n",
       "  \"/>\n",
       "<polyline clip-path=\"url(#clip1802)\" style=\"stroke:#000000; stroke-width:2; stroke-opacity:0.1; fill:none\" points=\"\n",
       "  208.77,374.937 2352.76,374.937 \n",
       "  \"/>\n",
       "<polyline clip-path=\"url(#clip1802)\" style=\"stroke:#000000; stroke-width:2; stroke-opacity:0.1; fill:none\" points=\"\n",
       "  208.77,134.48 2352.76,134.48 \n",
       "  \"/>\n",
       "<polyline clip-path=\"url(#clip1800)\" style=\"stroke:#000000; stroke-width:4; stroke-opacity:1; fill:none\" points=\"\n",
       "  208.77,1487.47 2352.76,1487.47 \n",
       "  \"/>\n",
       "<polyline clip-path=\"url(#clip1800)\" style=\"stroke:#000000; stroke-width:4; stroke-opacity:1; fill:none\" points=\"\n",
       "  208.77,1487.47 208.77,47.2441 \n",
       "  \"/>\n",
       "<polyline clip-path=\"url(#clip1800)\" style=\"stroke:#000000; stroke-width:4; stroke-opacity:1; fill:none\" points=\"\n",
       "  494.186,1487.47 494.186,1465.87 \n",
       "  \"/>\n",
       "<polyline clip-path=\"url(#clip1800)\" style=\"stroke:#000000; stroke-width:4; stroke-opacity:1; fill:none\" points=\"\n",
       "  943.659,1487.47 943.659,1465.87 \n",
       "  \"/>\n",
       "<polyline clip-path=\"url(#clip1800)\" style=\"stroke:#000000; stroke-width:4; stroke-opacity:1; fill:none\" points=\"\n",
       "  1393.13,1487.47 1393.13,1465.87 \n",
       "  \"/>\n",
       "<polyline clip-path=\"url(#clip1800)\" style=\"stroke:#000000; stroke-width:4; stroke-opacity:1; fill:none\" points=\"\n",
       "  1842.6,1487.47 1842.6,1465.87 \n",
       "  \"/>\n",
       "<polyline clip-path=\"url(#clip1800)\" style=\"stroke:#000000; stroke-width:4; stroke-opacity:1; fill:none\" points=\"\n",
       "  2292.08,1487.47 2292.08,1465.87 \n",
       "  \"/>\n",
       "<polyline clip-path=\"url(#clip1800)\" style=\"stroke:#000000; stroke-width:4; stroke-opacity:1; fill:none\" points=\"\n",
       "  208.77,1336.76 240.93,1336.76 \n",
       "  \"/>\n",
       "<polyline clip-path=\"url(#clip1800)\" style=\"stroke:#000000; stroke-width:4; stroke-opacity:1; fill:none\" points=\"\n",
       "  208.77,1096.31 240.93,1096.31 \n",
       "  \"/>\n",
       "<polyline clip-path=\"url(#clip1800)\" style=\"stroke:#000000; stroke-width:4; stroke-opacity:1; fill:none\" points=\"\n",
       "  208.77,855.849 240.93,855.849 \n",
       "  \"/>\n",
       "<polyline clip-path=\"url(#clip1800)\" style=\"stroke:#000000; stroke-width:4; stroke-opacity:1; fill:none\" points=\"\n",
       "  208.77,615.393 240.93,615.393 \n",
       "  \"/>\n",
       "<polyline clip-path=\"url(#clip1800)\" style=\"stroke:#000000; stroke-width:4; stroke-opacity:1; fill:none\" points=\"\n",
       "  208.77,374.937 240.93,374.937 \n",
       "  \"/>\n",
       "<polyline clip-path=\"url(#clip1800)\" style=\"stroke:#000000; stroke-width:4; stroke-opacity:1; fill:none\" points=\"\n",
       "  208.77,134.48 240.93,134.48 \n",
       "  \"/>\n",
       "<g clip-path=\"url(#clip1800)\">\n",
       "<text style=\"fill:#000000; fill-opacity:1; font-family:Arial,Helvetica Neue,Helvetica,sans-serif; font-size:48px; text-anchor:middle;\" transform=\"rotate(0, 494.186, 1541.47)\" x=\"494.186\" y=\"1541.47\">2</text>\n",
       "</g>\n",
       "<g clip-path=\"url(#clip1800)\">\n",
       "<text style=\"fill:#000000; fill-opacity:1; font-family:Arial,Helvetica Neue,Helvetica,sans-serif; font-size:48px; text-anchor:middle;\" transform=\"rotate(0, 943.659, 1541.47)\" x=\"943.659\" y=\"1541.47\">4</text>\n",
       "</g>\n",
       "<g clip-path=\"url(#clip1800)\">\n",
       "<text style=\"fill:#000000; fill-opacity:1; font-family:Arial,Helvetica Neue,Helvetica,sans-serif; font-size:48px; text-anchor:middle;\" transform=\"rotate(0, 1393.13, 1541.47)\" x=\"1393.13\" y=\"1541.47\">6</text>\n",
       "</g>\n",
       "<g clip-path=\"url(#clip1800)\">\n",
       "<text style=\"fill:#000000; fill-opacity:1; font-family:Arial,Helvetica Neue,Helvetica,sans-serif; font-size:48px; text-anchor:middle;\" transform=\"rotate(0, 1842.6, 1541.47)\" x=\"1842.6\" y=\"1541.47\">8</text>\n",
       "</g>\n",
       "<g clip-path=\"url(#clip1800)\">\n",
       "<text style=\"fill:#000000; fill-opacity:1; font-family:Arial,Helvetica Neue,Helvetica,sans-serif; font-size:48px; text-anchor:middle;\" transform=\"rotate(0, 2292.08, 1541.47)\" x=\"2292.08\" y=\"1541.47\">10</text>\n",
       "</g>\n",
       "<g clip-path=\"url(#clip1800)\">\n",
       "<text style=\"fill:#000000; fill-opacity:1; font-family:Arial,Helvetica Neue,Helvetica,sans-serif; font-size:48px; text-anchor:end;\" transform=\"rotate(0, 184.77, 1354.26)\" x=\"184.77\" y=\"1354.26\">-15.0</text>\n",
       "</g>\n",
       "<g clip-path=\"url(#clip1800)\">\n",
       "<text style=\"fill:#000000; fill-opacity:1; font-family:Arial,Helvetica Neue,Helvetica,sans-serif; font-size:48px; text-anchor:end;\" transform=\"rotate(0, 184.77, 1113.81)\" x=\"184.77\" y=\"1113.81\">-12.5</text>\n",
       "</g>\n",
       "<g clip-path=\"url(#clip1800)\">\n",
       "<text style=\"fill:#000000; fill-opacity:1; font-family:Arial,Helvetica Neue,Helvetica,sans-serif; font-size:48px; text-anchor:end;\" transform=\"rotate(0, 184.77, 873.349)\" x=\"184.77\" y=\"873.349\">-10.0</text>\n",
       "</g>\n",
       "<g clip-path=\"url(#clip1800)\">\n",
       "<text style=\"fill:#000000; fill-opacity:1; font-family:Arial,Helvetica Neue,Helvetica,sans-serif; font-size:48px; text-anchor:end;\" transform=\"rotate(0, 184.77, 632.893)\" x=\"184.77\" y=\"632.893\">-7.5</text>\n",
       "</g>\n",
       "<g clip-path=\"url(#clip1800)\">\n",
       "<text style=\"fill:#000000; fill-opacity:1; font-family:Arial,Helvetica Neue,Helvetica,sans-serif; font-size:48px; text-anchor:end;\" transform=\"rotate(0, 184.77, 392.437)\" x=\"184.77\" y=\"392.437\">-5.0</text>\n",
       "</g>\n",
       "<g clip-path=\"url(#clip1800)\">\n",
       "<text style=\"fill:#000000; fill-opacity:1; font-family:Arial,Helvetica Neue,Helvetica,sans-serif; font-size:48px; text-anchor:end;\" transform=\"rotate(0, 184.77, 151.98)\" x=\"184.77\" y=\"151.98\">-2.5</text>\n",
       "</g>\n",
       "<polyline clip-path=\"url(#clip1802)\" style=\"stroke:#009af9; stroke-width:4; stroke-opacity:1; fill:none\" points=\"\n",
       "  269.449,88.0053 494.186,90.4653 718.922,93.2542 943.659,96.4738 1168.39,100.282 1393.13,104.942 1617.87,110.951 1842.6,119.419 2067.34,133.896 2292.08,1446.71 \n",
       "  \n",
       "  \"/>\n",
       "<polygon clip-path=\"url(#clip1802)\" style=\"fill:#000000; fill-opacity:1\" points=\"\n",
       "  269.449,108.005 255.309,102.145 249.449,88.0053 255.309,73.8653 269.449,68.0053 283.589,73.8653 289.449,88.0053 283.589,102.145 \n",
       "  \"/>\n",
       "<polygon clip-path=\"url(#clip1802)\" style=\"fill:#009af9; fill-opacity:1\" points=\"\n",
       "  269.449,104.005 258.137,99.3173 253.449,88.0053 258.137,76.6933 269.449,72.0053 280.761,76.6933 285.449,88.0053 280.761,99.3173 \n",
       "  \"/>\n",
       "<polygon clip-path=\"url(#clip1802)\" style=\"fill:#000000; fill-opacity:1\" points=\"\n",
       "  494.186,110.465 480.046,104.605 474.186,90.4653 480.046,76.3253 494.186,70.4653 508.326,76.3253 514.186,90.4653 508.326,104.605 \n",
       "  \"/>\n",
       "<polygon clip-path=\"url(#clip1802)\" style=\"fill:#009af9; fill-opacity:1\" points=\"\n",
       "  494.186,106.465 482.874,101.777 478.186,90.4653 482.874,79.1533 494.186,74.4653 505.498,79.1533 510.186,90.4653 505.498,101.777 \n",
       "  \"/>\n",
       "<polygon clip-path=\"url(#clip1802)\" style=\"fill:#000000; fill-opacity:1\" points=\"\n",
       "  718.922,113.254 704.782,107.394 698.922,93.2542 704.782,79.1142 718.922,73.2542 733.062,79.1142 738.922,93.2542 733.062,107.394 \n",
       "  \"/>\n",
       "<polygon clip-path=\"url(#clip1802)\" style=\"fill:#009af9; fill-opacity:1\" points=\"\n",
       "  718.922,109.254 707.61,104.566 702.922,93.2542 707.61,81.9422 718.922,77.2542 730.234,81.9422 734.922,93.2542 730.234,104.566 \n",
       "  \"/>\n",
       "<polygon clip-path=\"url(#clip1802)\" style=\"fill:#000000; fill-opacity:1\" points=\"\n",
       "  943.659,116.474 929.519,110.614 923.659,96.4738 929.519,82.3338 943.659,76.4738 957.799,82.3338 963.659,96.4738 957.799,110.614 \n",
       "  \"/>\n",
       "<polygon clip-path=\"url(#clip1802)\" style=\"fill:#009af9; fill-opacity:1\" points=\"\n",
       "  943.659,112.474 932.347,107.786 927.659,96.4738 932.347,85.1618 943.659,80.4738 954.971,85.1618 959.659,96.4738 954.971,107.786 \n",
       "  \"/>\n",
       "<polygon clip-path=\"url(#clip1802)\" style=\"fill:#000000; fill-opacity:1\" points=\"\n",
       "  1168.39,120.282 1154.25,114.422 1148.39,100.282 1154.25,86.1417 1168.39,80.2817 1182.53,86.1417 1188.39,100.282 1182.53,114.422 \n",
       "  \"/>\n",
       "<polygon clip-path=\"url(#clip1802)\" style=\"fill:#009af9; fill-opacity:1\" points=\"\n",
       "  1168.39,116.282 1157.08,111.594 1152.39,100.282 1157.08,88.9697 1168.39,84.2817 1179.71,88.9697 1184.39,100.282 1179.71,111.594 \n",
       "  \"/>\n",
       "<polygon clip-path=\"url(#clip1802)\" style=\"fill:#000000; fill-opacity:1\" points=\"\n",
       "  1393.13,124.942 1378.99,119.082 1373.13,104.942 1378.99,90.8022 1393.13,84.9422 1407.27,90.8022 1413.13,104.942 1407.27,119.082 \n",
       "  \"/>\n",
       "<polygon clip-path=\"url(#clip1802)\" style=\"fill:#009af9; fill-opacity:1\" points=\"\n",
       "  1393.13,120.942 1381.82,116.254 1377.13,104.942 1381.82,93.6302 1393.13,88.9422 1404.44,93.6302 1409.13,104.942 1404.44,116.254 \n",
       "  \"/>\n",
       "<polygon clip-path=\"url(#clip1802)\" style=\"fill:#000000; fill-opacity:1\" points=\"\n",
       "  1617.87,130.951 1603.73,125.091 1597.87,110.951 1603.73,96.8107 1617.87,90.9507 1632.01,96.8107 1637.87,110.951 1632.01,125.091 \n",
       "  \"/>\n",
       "<polygon clip-path=\"url(#clip1802)\" style=\"fill:#009af9; fill-opacity:1\" points=\"\n",
       "  1617.87,126.951 1606.56,122.263 1601.87,110.951 1606.56,99.6387 1617.87,94.9507 1629.18,99.6387 1633.87,110.951 1629.18,122.263 \n",
       "  \"/>\n",
       "<polygon clip-path=\"url(#clip1802)\" style=\"fill:#000000; fill-opacity:1\" points=\"\n",
       "  1842.6,139.419 1828.46,133.559 1822.6,119.419 1828.46,105.279 1842.6,99.4191 1856.74,105.279 1862.6,119.419 1856.74,133.559 \n",
       "  \"/>\n",
       "<polygon clip-path=\"url(#clip1802)\" style=\"fill:#009af9; fill-opacity:1\" points=\"\n",
       "  1842.6,135.419 1831.29,130.731 1826.6,119.419 1831.29,108.107 1842.6,103.419 1853.92,108.107 1858.6,119.419 1853.92,130.731 \n",
       "  \"/>\n",
       "<polygon clip-path=\"url(#clip1802)\" style=\"fill:#000000; fill-opacity:1\" points=\"\n",
       "  2067.34,153.896 2053.2,148.036 2047.34,133.896 2053.2,119.756 2067.34,113.896 2081.48,119.756 2087.34,133.896 2081.48,148.036 \n",
       "  \"/>\n",
       "<polygon clip-path=\"url(#clip1802)\" style=\"fill:#009af9; fill-opacity:1\" points=\"\n",
       "  2067.34,149.896 2056.03,145.208 2051.34,133.896 2056.03,122.584 2067.34,117.896 2078.65,122.584 2083.34,133.896 2078.65,145.208 \n",
       "  \"/>\n",
       "<polygon clip-path=\"url(#clip1802)\" style=\"fill:#000000; fill-opacity:1\" points=\"\n",
       "  2292.08,1466.71 2277.94,1460.85 2272.08,1446.71 2277.94,1432.57 2292.08,1426.71 2306.22,1432.57 2312.08,1446.71 2306.22,1460.85 \n",
       "  \"/>\n",
       "<polygon clip-path=\"url(#clip1802)\" style=\"fill:#009af9; fill-opacity:1\" points=\"\n",
       "  2292.08,1462.71 2280.77,1458.03 2276.08,1446.71 2280.77,1435.4 2292.08,1430.71 2303.39,1435.4 2308.08,1446.71 2303.39,1458.03 \n",
       "  \"/>\n",
       "<polygon clip-path=\"url(#clip1800)\" points=\"\n",
       "1989.93,251.724 2280.76,251.724 2280.76,130.764 1989.93,130.764 \n",
       "  \" fill=\"#ffffff\" fill-rule=\"evenodd\" fill-opacity=\"1\"/>\n",
       "<polyline clip-path=\"url(#clip1800)\" style=\"stroke:#000000; stroke-width:4; stroke-opacity:1; fill:none\" points=\"\n",
       "  1989.93,251.724 2280.76,251.724 2280.76,130.764 1989.93,130.764 1989.93,251.724 \n",
       "  \"/>\n",
       "<polyline clip-path=\"url(#clip1800)\" style=\"stroke:#009af9; stroke-width:4; stroke-opacity:1; fill:none\" points=\"\n",
       "  2013.93,191.244 2157.93,191.244 \n",
       "  \"/>\n",
       "<polygon clip-path=\"url(#clip1800)\" style=\"fill:#000000; fill-opacity:1\" points=\"\n",
       "  2097.93,219.244 2078.13,211.04 2069.93,191.244 2078.13,171.448 2097.93,163.244 2117.72,171.448 2125.93,191.244 2117.72,211.04 \n",
       "  \"/>\n",
       "<polygon clip-path=\"url(#clip1800)\" style=\"fill:#009af9; fill-opacity:1\" points=\"\n",
       "  2097.93,215.244 2080.96,208.212 2073.93,191.244 2080.96,174.276 2097.93,167.244 2114.89,174.276 2121.93,191.244 2114.89,208.212 \n",
       "  \"/>\n",
       "<g clip-path=\"url(#clip1800)\">\n",
       "<text style=\"fill:#000000; fill-opacity:1; font-family:Arial,Helvetica Neue,Helvetica,sans-serif; font-size:48px; text-anchor:start;\" transform=\"rotate(0, 2181.93, 208.744)\" x=\"2181.93\" y=\"208.744\">y1</text>\n",
       "</g>\n",
       "</svg>\n"
      ]
     },
     "execution_count": 20,
     "metadata": {},
     "output_type": "execute_result"
    }
   ],
   "source": [
    "using IterativeSolvers\n",
    "u1, hist = gmres(A,b,log=true)\n",
    "@show norm(u - u1)\n",
    "plot(log10.(hist.data[:resnorm]), marker=:o)"
   ]
  },
  {
   "cell_type": "markdown",
   "metadata": {},
   "source": [
    "## Automatic Differentiation"
   ]
  },
  {
   "cell_type": "code",
   "execution_count": 21,
   "metadata": {},
   "outputs": [
    {
     "name": "stdout",
     "output_type": "stream",
     "text": [
      "\u001b[32m\u001b[1m Resolving\u001b[22m\u001b[39m package versions...\n",
      "\u001b[32m\u001b[1m  Updating\u001b[22m\u001b[39m `C:\\Users\\Kristof\\.julia\\environments\\v1.2\\Project.toml`\n",
      "\u001b[90m [no changes]\u001b[39m\n",
      "\u001b[32m\u001b[1m  Updating\u001b[22m\u001b[39m `C:\\Users\\Kristof\\.julia\\environments\\v1.2\\Manifest.toml`\n",
      "\u001b[90m [no changes]\u001b[39m\n"
     ]
    }
   ],
   "source": [
    "pkg\"add DualNumbers\""
   ]
  },
  {
   "cell_type": "code",
   "execution_count": 22,
   "metadata": {},
   "outputs": [
    {
     "name": "stdout",
     "output_type": "stream",
     "text": [
      "cubic(2.0) = 8.0\n"
     ]
    },
    {
     "data": {
      "text/plain": [
       "8.0"
      ]
     },
     "execution_count": 22,
     "metadata": {},
     "output_type": "execute_result"
    }
   ],
   "source": [
    "using DualNumbers\n",
    "cubic(x) = x^3\n",
    "@show cubic(2.0)"
   ]
  },
  {
   "cell_type": "code",
   "execution_count": 23,
   "metadata": {},
   "outputs": [
    {
     "name": "stdout",
     "output_type": "stream",
     "text": [
      "realpart(cubic(2 + ϵ)) = 8\n",
      "dualpart(cubic(2 + ϵ)) = 12\n"
     ]
    },
    {
     "data": {
      "text/plain": [
       "12"
      ]
     },
     "execution_count": 23,
     "metadata": {},
     "output_type": "execute_result"
    }
   ],
   "source": [
    "ϵ = Dual(0,1)\n",
    "@show realpart(cubic(2 + ϵ))\n",
    "@show dualpart(cubic(2 + ϵ))"
   ]
  },
  {
   "cell_type": "markdown",
   "metadata": {},
   "source": [
    "## Example: Linked List\n",
    "\n",
    "We want our own linked list implementation."
   ]
  },
  {
   "cell_type": "code",
   "execution_count": 24,
   "metadata": {},
   "outputs": [],
   "source": [
    "struct Node{T}\n",
    "    data::T\n",
    "    next::Int\n",
    "end\n",
    "\n",
    "struct LinkedList{T}\n",
    "    nodes::Vector{Node{T}}\n",
    "    head::Int\n",
    "end"
   ]
  },
  {
   "cell_type": "code",
   "execution_count": 25,
   "metadata": {},
   "outputs": [],
   "source": [
    "function LinkedList(els::Vector)\n",
    "    nodes = [Node(el,i+1) for (i,el) in enumerate(els)]\n",
    "    nodes[end] = Node(last(els),0)\n",
    "    LinkedList(nodes,1)\n",
    "end\n",
    "\n",
    "start(ll::LinkedList) = (0, ll.head)\n",
    "done(ll::LinkedList, state) = state[2] < 1\n",
    "next(ll::LinkedList, (prev, next)) = ll.nodes[next].data, (next, ll.nodes[next].next)\n",
    "\n",
    "function Base.iterate(ll::LinkedList, state=start(ll))\n",
    "    done(ll, state) ? nothing : next(ll, state)\n",
    "end\n",
    "\n",
    "# export start, next, done"
   ]
  },
  {
   "cell_type": "code",
   "execution_count": 26,
   "metadata": {},
   "outputs": [
    {
     "name": "stdout",
     "output_type": "stream",
     "text": [
      "apple\n",
      "pear\n",
      "banana\n"
     ]
    }
   ],
   "source": [
    "ll = LinkedList([\"apple\", \"pear\", \"banana\"])\n",
    "\n",
    "state = start(ll)\n",
    "while !done(ll,state)\n",
    "    item, newstate = next(ll, state)\n",
    "    println(item)\n",
    "    state = newstate\n",
    "end"
   ]
  },
  {
   "cell_type": "code",
   "execution_count": 27,
   "metadata": {},
   "outputs": [],
   "source": [
    "function Base.insert!(ll::LinkedList, pos, item)\n",
    "    prev, next = pos\n",
    "    push!(ll.nodes, Node(item, next))\n",
    "    prev > 0 && (ll.nodes[prev] = Node(ll.nodes[prev].data, lastindex(ll.nodes)))\n",
    "    return ll\n",
    "end"
   ]
  },
  {
   "cell_type": "code",
   "execution_count": 28,
   "metadata": {},
   "outputs": [
    {
     "name": "stdout",
     "output_type": "stream",
     "text": [
      "apple\n",
      "kiwi\n",
      "pear\n",
      "banana\n"
     ]
    }
   ],
   "source": [
    "state = start(ll)\n",
    "item, state = next(ll, state)\n",
    "insert!(ll, state, \"kiwi\")\n",
    "for item in ll println(item) end"
   ]
  },
  {
   "cell_type": "markdown",
   "metadata": {},
   "source": [
    "## Spot the bug"
   ]
  },
  {
   "cell_type": "code",
   "execution_count": 26,
   "metadata": {},
   "outputs": [
    {
     "data": {
      "text/plain": [
       "LinkedList{String}(Node{String}[Node{String}(\"apple\", 2), Node{String}(\"pear\", 3), Node{String}(\"banana\", 0), Node{String}(\"kiwi\", 1)], 1)"
      ]
     },
     "execution_count": 26,
     "metadata": {},
     "output_type": "execute_result"
    }
   ],
   "source": [
    "ll = LinkedList([\"apple\", \"pear\", \"banana\"])\n",
    "state = start(ll)\n",
    "insert!(ll, state, \"kiwi\")"
   ]
  },
  {
   "cell_type": "code",
   "execution_count": 27,
   "metadata": {},
   "outputs": [
    {
     "name": "stdout",
     "output_type": "stream",
     "text": [
      "apple\n",
      "pear\n",
      "banana\n"
     ]
    }
   ],
   "source": [
    "for item in ll println(item) end"
   ]
  },
  {
   "cell_type": "markdown",
   "metadata": {},
   "source": [
    "## Demo\n",
    "\n",
    "- make a package with the GithubPages and TravisCI plugins\n",
    "- populate with docced code, tests, and documentation\n",
    "- check travis.yaml\n",
    "- push to Github\n",
    "- Activate CI\n",
    "- Create access code for travis to enable doc deployment\n",
    "- let stuff happen..."
   ]
  },
  {
   "cell_type": "code",
   "execution_count": null,
   "metadata": {},
   "outputs": [],
   "source": []
  }
 ],
 "metadata": {
  "kernelspec": {
   "display_name": "Julia 1.2.0",
   "language": "julia",
   "name": "julia-1.2"
  },
  "language_info": {
   "file_extension": ".jl",
   "mimetype": "application/julia",
   "name": "julia",
   "version": "1.2.0"
  }
 },
 "nbformat": 4,
 "nbformat_minor": 2
}
